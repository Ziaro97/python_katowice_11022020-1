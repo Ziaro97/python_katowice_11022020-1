{
 "cells": [
  {
   "cell_type": "markdown",
   "metadata": {},
   "source": [
    "\n",
    "##  Zapisz notebook w formacie imie_nazwisko_fin.ipynb"
   ]
  },
  {
   "cell_type": "markdown",
   "metadata": {},
   "source": [
    "## 01 Zliczanie dużych liter\n",
    "\n",
    "Napisz funkcję `capital_index`, która przyjmie napis i zwróci listę indeksów na których występuje duża litera"
   ]
  },
  {
   "cell_type": "code",
   "execution_count": 2,
   "metadata": {
    "collapsed": true
   },
   "outputs": [
    {
     "data": {
      "text/plain": [
       "['__add__',\n",
       " '__class__',\n",
       " '__contains__',\n",
       " '__delattr__',\n",
       " '__dir__',\n",
       " '__doc__',\n",
       " '__eq__',\n",
       " '__format__',\n",
       " '__ge__',\n",
       " '__getattribute__',\n",
       " '__getitem__',\n",
       " '__getnewargs__',\n",
       " '__gt__',\n",
       " '__hash__',\n",
       " '__init__',\n",
       " '__init_subclass__',\n",
       " '__iter__',\n",
       " '__le__',\n",
       " '__len__',\n",
       " '__lt__',\n",
       " '__mod__',\n",
       " '__mul__',\n",
       " '__ne__',\n",
       " '__new__',\n",
       " '__reduce__',\n",
       " '__reduce_ex__',\n",
       " '__repr__',\n",
       " '__rmod__',\n",
       " '__rmul__',\n",
       " '__setattr__',\n",
       " '__sizeof__',\n",
       " '__str__',\n",
       " '__subclasshook__',\n",
       " 'capitalize',\n",
       " 'casefold',\n",
       " 'center',\n",
       " 'count',\n",
       " 'encode',\n",
       " 'endswith',\n",
       " 'expandtabs',\n",
       " 'find',\n",
       " 'format',\n",
       " 'format_map',\n",
       " 'index',\n",
       " 'isalnum',\n",
       " 'isalpha',\n",
       " 'isascii',\n",
       " 'isdecimal',\n",
       " 'isdigit',\n",
       " 'isidentifier',\n",
       " 'islower',\n",
       " 'isnumeric',\n",
       " 'isprintable',\n",
       " 'isspace',\n",
       " 'istitle',\n",
       " 'isupper',\n",
       " 'join',\n",
       " 'ljust',\n",
       " 'lower',\n",
       " 'lstrip',\n",
       " 'maketrans',\n",
       " 'partition',\n",
       " 'replace',\n",
       " 'rfind',\n",
       " 'rindex',\n",
       " 'rjust',\n",
       " 'rpartition',\n",
       " 'rsplit',\n",
       " 'rstrip',\n",
       " 'split',\n",
       " 'splitlines',\n",
       " 'startswith',\n",
       " 'strip',\n",
       " 'swapcase',\n",
       " 'title',\n",
       " 'translate',\n",
       " 'upper',\n",
       " 'zfill']"
      ]
     },
     "execution_count": 2,
     "metadata": {},
     "output_type": "execute_result"
    }
   ],
   "source": [
    "dir(\"\")"
   ]
  },
  {
   "cell_type": "code",
   "execution_count": 27,
   "metadata": {
    "ExecuteTime": {
     "end_time": "2020-02-05T15:27:13.998917Z",
     "start_time": "2020-02-05T15:27:13.996184Z"
    }
   },
   "outputs": [],
   "source": [
    "# tu rozwiązanie\n",
    "def capital_indexes(text):\n",
    "    result = []\n",
    "    for i, letter in enumerate(text):\n",
    "        if letter.isupper():\n",
    "            result.append(i)\n",
    "    return result"
   ]
  },
  {
   "cell_type": "code",
   "execution_count": 4,
   "metadata": {},
   "outputs": [],
   "source": [
    "assert capital_indexes(\"HeLlO\") == [0, 2, 4]"
   ]
  },
  {
   "cell_type": "markdown",
   "metadata": {},
   "source": [
    "## 02 Zliczanie statusów\n",
    "\n",
    "Napisz funkcję `status_counter`, która przyjmie słownik ze statusami (zobacz test) oraz status i zwróci liczbę osób o zadanym statusie\n"
   ]
  },
  {
   "cell_type": "code",
   "execution_count": 11,
   "metadata": {},
   "outputs": [],
   "source": [
    "def status_counter(statuses, status):\n",
    "    return list(statuses.values()).count(status)\n",
    "    "
   ]
  },
  {
   "cell_type": "code",
   "execution_count": 7,
   "metadata": {},
   "outputs": [
    {
     "data": {
      "text/plain": [
       "0"
      ]
     },
     "execution_count": 7,
     "metadata": {},
     "output_type": "execute_result"
    }
   ],
   "source": [
    "d= {\"xxx\":\"yyy\"}\n",
    "list(d.values()).count(\"z\")"
   ]
  },
  {
   "cell_type": "code",
   "execution_count": 12,
   "metadata": {
    "ExecuteTime": {
     "end_time": "2020-02-05T15:30:08.011650Z",
     "start_time": "2020-02-05T15:30:07.933434Z"
    }
   },
   "outputs": [],
   "source": [
    "statuses = {\n",
    "    \"Alice\": \"online\",\n",
    "    \"Bob\": \"offline\",\n",
    "    \"Eve\": \"online\",\n",
    "}\n",
    "assert status_counter(statuses, \"xxx\") == 0\n",
    "assert status_counter(statuses, \"online\") == 2\n",
    "assert status_counter(statuses, \"offline\") == 1"
   ]
  },
  {
   "cell_type": "markdown",
   "metadata": {},
   "source": [
    "## 03 Sprawdzanie typów\n",
    "\n",
    "Napisz funkcję `only_ints`, która przyjmie dwa argumenty i zwróci prawdę jeśli oba są typu `int` w przeciwnym razie zwróci `False`"
   ]
  },
  {
   "cell_type": "code",
   "execution_count": 15,
   "metadata": {},
   "outputs": [],
   "source": [
    "def only_ints(a, b):\n",
    "    return type(a) == int and type(b) == int"
   ]
  },
  {
   "cell_type": "code",
   "execution_count": 16,
   "metadata": {},
   "outputs": [],
   "source": [
    "assert only_ints(1, 2) == True\n",
    "assert only_ints(1, True) == False\n",
    "assert only_ints(\"a\", 1) == False"
   ]
  },
  {
   "cell_type": "markdown",
   "metadata": {},
   "source": [
    "## 04 Wyszukiwanie podwójnych znaków\n",
    "\n",
    "Zdefiniuj funkcję `double_letters` która przyjmie jako argument text. \n",
    "Funkcja zwróci prawdę jeśli w tekście występują obok siebie dwie identyczne litery.\n",
    "W przeciwnym wypadku zwróci False"
   ]
  },
  {
   "cell_type": "code",
   "execution_count": 19,
   "metadata": {},
   "outputs": [],
   "source": [
    "def double_letters(text):\n",
    "    for i in range(len(text)-1):\n",
    "        if text[i] == text[i+1]:\n",
    "            return True\n",
    "    return False"
   ]
  },
  {
   "cell_type": "code",
   "execution_count": 20,
   "metadata": {},
   "outputs": [],
   "source": [
    "assert double_letters(\"ala\") == False\n",
    "assert double_letters(\"Hello\") == True\n",
    "assert double_letters(\"abc\") == False\n",
    "assert double_letters(\"nono\") == False"
   ]
  },
  {
   "cell_type": "markdown",
   "metadata": {},
   "source": [
    "## 05 Anagram\n",
    "\n",
    "Napisz funkcję, która srpawdzi, czy podane dwa teksty są anagramami. Tzn.. czy z liter jednego da się ułożyć drugi"
   ]
  },
  {
   "cell_type": "code",
   "execution_count": 21,
   "metadata": {},
   "outputs": [],
   "source": [
    "def is_anagram(a, b):\n",
    "    return sorted(a) == sorted(b)"
   ]
  },
  {
   "cell_type": "code",
   "execution_count": 22,
   "metadata": {},
   "outputs": [],
   "source": [
    "assert is_anagram(\"typhoon\", \"opython\") == True \n",
    "assert is_anagram(\"Alice\", \"Bob\") == False\n"
   ]
  },
  {
   "cell_type": "markdown",
   "metadata": {},
   "source": [
    "## 06 Największa różnica\n",
    "\n",
    "Napisz funkcję `largest_difference`, która dla zadanej listy liczby zwróci wartość największej różnicy miedzy jej elementami\n"
   ]
  },
  {
   "cell_type": "code",
   "execution_count": 23,
   "metadata": {},
   "outputs": [],
   "source": [
    "def largest_difference(elements):\n",
    "    return max(elements) - min(elements)"
   ]
  },
  {
   "cell_type": "code",
   "execution_count": 24,
   "metadata": {},
   "outputs": [],
   "source": [
    "assert largest_difference([1, 2, 3]) == 2"
   ]
  },
  {
   "cell_type": "markdown",
   "metadata": {},
   "source": [
    "## 06 Kółko i krzyżyk - pozycja\n",
    "\n",
    "Mamy przykładową planszę:\n",
    "\n",
    "    1:  X | O | X\n",
    "       -----------\n",
    "    2:    |   |  \n",
    "       -----------\n",
    "    3:  O |   |\n",
    "\n",
    "        A   B  C\n",
    "\n",
    "Może być ona reprezentowana w Pythonie jako:\n",
    "\n",
    "    board = [\n",
    "        [\"X\", \"O\", \"X\"],\n",
    "        [\" \", \" \", \" \"],\n",
    "        [\"O\", \" \", \" \"],\n",
    "    ]\n",
    "\n",
    "Napisz funkcję `get_row_col`, która przyjmie napis reprezentujący położenie na planszy\n",
    "i zwróci tuplę odpowiadająca pozycji w `board`\n",
    "\n"
   ]
  },
  {
   "cell_type": "code",
   "execution_count": 25,
   "metadata": {},
   "outputs": [],
   "source": [
    "def get_row_col(position):\n",
    "    rows = \"123\"\n",
    "    cols = \"ABC\"\n",
    "    col, row = list(position)\n",
    "    return rows.index(row), cols.index(col)\n",
    "    "
   ]
  },
  {
   "cell_type": "code",
   "execution_count": 26,
   "metadata": {
    "ExecuteTime": {
     "end_time": "2020-02-05T15:51:17.662699Z",
     "start_time": "2020-02-05T15:51:17.574871Z"
    }
   },
   "outputs": [],
   "source": [
    "assert get_row_col('A3') == (2, 0)"
   ]
  },
  {
   "cell_type": "code",
   "execution_count": null,
   "metadata": {},
   "outputs": [],
   "source": [
    "wynik=[]\n",
    "for liczba in range(21):\n",
    "    if liczba % 3 == 0:\n",
    "        wynik.append(liczba**2)"
   ]
  },
  {
   "cell_type": "code",
   "execution_count": null,
   "metadata": {},
   "outputs": [],
   "source": [
    "wynik = [liczba**2 for liczba in range(21) if liczba % 3 == 0]"
   ]
  },
  {
   "cell_type": "markdown",
   "metadata": {},
   "source": [
    "## Person\n",
    "\n",
    "Zdefiniuj klasę Person, którą będzie tworzyć się podając name, last_name, b_year\n",
    "Niech klasa ma atrybut dynamiczny wyliczający wiek danej osoby\n",
    "\n",
    "Zrzutowanie na `str` powinno być w formacie \"J.Nowak (39)\"\n"
   ]
  },
  {
   "cell_type": "code",
   "execution_count": null,
   "metadata": {},
   "outputs": [],
   "source": []
  },
  {
   "cell_type": "code",
   "execution_count": null,
   "metadata": {
    "ExecuteTime": {
     "end_time": "2020-02-05T15:54:17.801782Z",
     "start_time": "2020-02-05T15:54:17.684934Z"
    }
   },
   "outputs": [],
   "source": [
    "person = Person(\"Jan\", \"Nowak\", 1981)\n",
    "\n",
    "assert str(person) == \"J.Nowak (39)\""
   ]
  },
  {
   "cell_type": "markdown",
   "metadata": {},
   "source": [
    "## Numpy\n",
    "\n",
    "Przy pomocy numpy utwórz tablicę randomowych wartości o długości 100. \n",
    "Zwróć ich średnią"
   ]
  },
  {
   "cell_type": "code",
   "execution_count": null,
   "metadata": {},
   "outputs": [],
   "source": []
  }
 ],
 "metadata": {
  "kernelspec": {
   "display_name": "Python 3",
   "language": "python",
   "name": "python3"
  },
  "language_info": {
   "codemirror_mode": {
    "name": "ipython",
    "version": 3
   },
   "file_extension": ".py",
   "mimetype": "text/x-python",
   "name": "python",
   "nbconvert_exporter": "python",
   "pygments_lexer": "ipython3",
   "version": "3.7.4"
  },
  "toc": {
   "base_numbering": 1,
   "nav_menu": {},
   "number_sections": true,
   "sideBar": true,
   "skip_h1_title": false,
   "title_cell": "Table of Contents",
   "title_sidebar": "Contents",
   "toc_cell": false,
   "toc_position": {},
   "toc_section_display": true,
   "toc_window_display": false
  }
 },
 "nbformat": 4,
 "nbformat_minor": 2
}
